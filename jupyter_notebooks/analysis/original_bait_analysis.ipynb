{
 "cells": [
  {
   "cell_type": "code",
   "execution_count": 5,
   "metadata": {},
   "outputs": [],
   "source": [
    "import sys\n",
    "import os\n",
    "import matplotlib.pyplot as plt\n",
    "import pandas as pd\n",
    "import numpy as np\n",
    "%matplotlib inline\n",
    "sys.path.append(\"../..\")\n",
    "from diachr import BaitAnalysis\n",
    "from diachr import OriginalBaitAnalysis\n",
    "\n",
    "# Create directory for output files generated in this notebook \n",
    "NOTEBOOK_RESULTS_DIR = 'results/original_bait_analysis'\n",
    "OUT_PREFIX = 'OBA'\n",
    "os.makedirs(NOTEBOOK_RESULTS_DIR, exist_ok=True)"
   ]
  },
  {
   "cell_type": "markdown",
   "metadata": {},
   "source": [
    "# Analysis of original bait coordinates\n",
    "\n",
    "We performed our analyses for the data of Mifsuf et al. 2015 using the genome build `hg38` and for the data of Schoenfelder 2015 using the genome build `mm10`. In both data sets, we observed baits with high repeat content. This is, at least for Schoenfelder's data, in contradiction to the bait selection criterion regarding mappability, according to which a bait must not contain more than three consecutive bases that were masked by repeatmasker. Here we investigate the original baits for the genome builds `hg19` and `mm9` in terms of GC, repeat and N content.\n",
    "\n",
    "Note that reference genomes and corresponding indices (`fa.fai`) are required for this analysis. They can be downloaded and indexed in the following notebook: [Get_started.ipynb](../Get_started.ipynb).\n",
    "\n",
    "## Bait selection criteria for [Mifsud et al. 2015](https://pubmed.ncbi.nlm.nih.gov/25938943/)\n",
    "\n",
    "*Biotinylated 120-mer RNA baits were designed to target both ends of HindIII restriction fragments that overlap Ensembl promoters of protein-coding, noncoding, antisense, snRNA, miRNA and snoRNA transcripts. A target sequence was valid if its **GC content ranged between 25 and 65%** and the sequence contained **no more than two consecutive Ns** and was within 330 bp of the HindIII restriction fragment terminus.*\n",
    "\n",
    "The bait sequences for `hg19` can be found in [Supplementary Table 4](https://static-content.springer.com/esm/art%3A10.1038%2Fng.3286/MediaObjects/41588_2015_BFng3286_MOESM48_ESM.xlsx) of the publication.\n",
    "\n",
    "## Bait selection criteria for [Schoenfelder et al. 2015](https://pubmed.ncbi.nlm.nih.gov/25752748/)\n",
    "\n",
    "*For each restriction fragment containing a transcription start site, two 120 bp capture probes were designed, one to each end of the fragment.Because of the size selection step following sonication, the probes had to fall entirely within a region no more than 500 bp from the end of the fragment. Each probe was required to have **no more than 3 consecutive bases masked by repeatmasker**, and they had to have a **GC content of 25 to 65%** to match the efficient capture range of the SureSelect target enrichment system (Agilent Technologies). Where multiple probes passed these criteria, the probe nearest the end of the restriction fragment was chosen.*\n",
    "\n",
    "The bait sequences for `mm9` can be found in [Supplemental Table 1](https://www.ncbi.nlm.nih.gov/pmc/articles/PMC4381529/bin/supp_gr.185272.114_SuppTable1.xlsx) of the publication."
   ]
  },
  {
   "cell_type": "markdown",
   "metadata": {},
   "source": [
    "## Get original baits from publications"
   ]
  },
  {
   "cell_type": "markdown",
   "metadata": {},
   "source": [
    "### Get original baits from Mifsud et al. 2015"
   ]
  },
  {
   "cell_type": "code",
   "execution_count": 6,
   "metadata": {},
   "outputs": [
    {
     "name": "stdout",
     "output_type": "stream",
     "text": [
      "--2024-07-17 14:40:46--  https://static-content.springer.com/esm/art%3A10.1038%2Fng.3286/MediaObjects/41588_2015_BFng3286_MOESM48_ESM.xlsx\n",
      "Resolving proxy.charite.de (proxy.charite.de)... 141.42.5.215\n",
      "Connecting to proxy.charite.de (proxy.charite.de)|141.42.5.215|:8080... connected.\n",
      "Proxy request sent, awaiting response... 200 OK\n",
      "Length: 8325700 (7.9M) [application/octet-stream]\n",
      "Saving to: ‘results/original_bait_analysis/MIFSUD_baits.xlsx’\n",
      "\n",
      "results/original_ba 100%[===================>]   7.94M  15.3MB/s    in 0.5s    \n",
      "\n",
      "2024-07-17 14:40:47 (15.3 MB/s) - ‘results/original_bait_analysis/MIFSUD_baits.xlsx’ saved [8325700/8325700]\n",
      "\n"
     ]
    }
   ],
   "source": [
    "!wget -O $NOTEBOOK_RESULTS_DIR/MIFSUD_baits.xlsx https://static-content.springer.com/esm/art%3A10.1038%2Fng.3286/MediaObjects/41588_2015_BFng3286_MOESM48_ESM.xlsx"
   ]
  },
  {
   "cell_type": "code",
   "execution_count": 7,
   "metadata": {},
   "outputs": [
    {
     "data": {
      "text/html": [
       "<div>\n",
       "<style scoped>\n",
       "    .dataframe tbody tr th:only-of-type {\n",
       "        vertical-align: middle;\n",
       "    }\n",
       "\n",
       "    .dataframe tbody tr th {\n",
       "        vertical-align: top;\n",
       "    }\n",
       "\n",
       "    .dataframe thead th {\n",
       "        text-align: right;\n",
       "    }\n",
       "</style>\n",
       "<table border=\"1\" class=\"dataframe\">\n",
       "  <thead>\n",
       "    <tr style=\"text-align: right;\">\n",
       "      <th></th>\n",
       "      <th>0</th>\n",
       "    </tr>\n",
       "  </thead>\n",
       "  <tbody>\n",
       "    <tr>\n",
       "      <th>0</th>\n",
       "      <td>&gt;Chr1:847857-847976 - RP11-54O7.1-001</td>\n",
       "    </tr>\n",
       "    <tr>\n",
       "      <th>1</th>\n",
       "      <td>ACAGTCCAGTTATGAAGGCAGGGTTCCTGTGTAAGCCAGCAGGCCC...</td>\n",
       "    </tr>\n",
       "    <tr>\n",
       "      <th>2</th>\n",
       "      <td>&gt;Chr1:848170-848289 + RP11-54O7.2-001</td>\n",
       "    </tr>\n",
       "    <tr>\n",
       "      <th>3</th>\n",
       "      <td>GCTTGGAGCTTCCTTTTCTGCACTCCACAGCAGGAAGAAGGGCAGT...</td>\n",
       "    </tr>\n",
       "    <tr>\n",
       "      <th>4</th>\n",
       "      <td>&gt;Chr1:850382-850501 - RP11-54O7.2-001</td>\n",
       "    </tr>\n",
       "    <tr>\n",
       "      <th>...</th>\n",
       "      <td>...</td>\n",
       "    </tr>\n",
       "    <tr>\n",
       "      <th>75211</th>\n",
       "      <td>TAAAGCATATGAGCATAGCTGGAAGAGGTGAAGAAGTTGACAGATA...</td>\n",
       "    </tr>\n",
       "    <tr>\n",
       "      <th>75212</th>\n",
       "      <td>&gt;ChrY:22918004-22918123 - RPS4Y2-001</td>\n",
       "    </tr>\n",
       "    <tr>\n",
       "      <th>75213</th>\n",
       "      <td>GTTGCACCGTAAAAGGAGAGGTTCTGTTCCGTCGCGGGATTTCGCC...</td>\n",
       "    </tr>\n",
       "    <tr>\n",
       "      <th>75214</th>\n",
       "      <td>&gt;ChrY:23614691-23614810 - CYorf17-001,CYorf17-201</td>\n",
       "    </tr>\n",
       "    <tr>\n",
       "      <th>75215</th>\n",
       "      <td>GCAAACTACAGACCCAAATGAAATATCCATCAGTAAACACTTGGAA...</td>\n",
       "    </tr>\n",
       "  </tbody>\n",
       "</table>\n",
       "<p>75216 rows × 1 columns</p>\n",
       "</div>"
      ],
      "text/plain": [
       "                                                       0\n",
       "0                  >Chr1:847857-847976 - RP11-54O7.1-001\n",
       "1      ACAGTCCAGTTATGAAGGCAGGGTTCCTGTGTAAGCCAGCAGGCCC...\n",
       "2                  >Chr1:848170-848289 + RP11-54O7.2-001\n",
       "3      GCTTGGAGCTTCCTTTTCTGCACTCCACAGCAGGAAGAAGGGCAGT...\n",
       "4                  >Chr1:850382-850501 - RP11-54O7.2-001\n",
       "...                                                  ...\n",
       "75211  TAAAGCATATGAGCATAGCTGGAAGAGGTGAAGAAGTTGACAGATA...\n",
       "75212               >ChrY:22918004-22918123 - RPS4Y2-001\n",
       "75213  GTTGCACCGTAAAAGGAGAGGTTCTGTTCCGTCGCGGGATTTCGCC...\n",
       "75214  >ChrY:23614691-23614810 - CYorf17-001,CYorf17-201\n",
       "75215  GCAAACTACAGACCCAAATGAAATATCCATCAGTAAACACTTGGAA...\n",
       "\n",
       "[75216 rows x 1 columns]"
      ]
     },
     "execution_count": 7,
     "metadata": {},
     "output_type": "execute_result"
    }
   ],
   "source": [
    "import warnings\n",
    "warnings.filterwarnings('ignore', category=UserWarning, module='openpyxl')\n",
    "# See: https://stackoverflow.com/questions/54976991/python-openpyxl-userwarning-unknown-extension-issue\n",
    "df = pd.read_excel(NOTEBOOK_RESULTS_DIR + \"/MIFSUD_baits.xlsx\", sheet_name=4, header=None)\n",
    "df"
   ]
  },
  {
   "cell_type": "code",
   "execution_count": 8,
   "metadata": {},
   "outputs": [
    {
     "name": "stdout",
     "output_type": "stream",
     "text": [
      "Created: results/original_bait_analysis/MIFSUD_baits.bed\n"
     ]
    }
   ],
   "source": [
    "# Create BED file with baits that can be loaded into the UCSC Genome Browser\n",
    "author = \"MIFSUD\"\n",
    "ucsc_bed_file = NOTEBOOK_RESULTS_DIR + '/' + author + '_baits.bed'\n",
    "fh = open(ucsc_bed_file, 'w')\n",
    "fh.write(\"track name=\\\"\" + author + \"_baits\" + \"\\\" description=\\\"\" + author + \"_baits\" + \"\\\" itemRgb=\\\"On\\\"\" + '\\n')\n",
    "\n",
    "indices = list(range(0, len(df), 2))\n",
    "for i in indices:\n",
    "    coords = df.iloc[i][0]\n",
    "    coords = coords.split(' ')[0][1:]\n",
    "    chrom = coords.split(':')[0]\n",
    "    chrom = chrom[0].lower() + chrom[1:]\n",
    "    sta = str(int(coords.split(':')[1].split('-')[0]) - 1)\n",
    "    end = coords.split(':')[1].split('-')[1]\n",
    "    fh.write(chrom + '\\t' + sta + '\\t' + end + '\\n')\n",
    "fh.close()\n",
    "print('Created: ' + ucsc_bed_file)"
   ]
  },
  {
   "cell_type": "markdown",
   "metadata": {},
   "source": [
    "### Get original baits from Schoenfelder et al. 2015"
   ]
  },
  {
   "cell_type": "code",
   "execution_count": 10,
   "metadata": {},
   "outputs": [
    {
     "name": "stdout",
     "output_type": "stream",
     "text": [
      "--2024-07-17 14:40:49--  https://www.ncbi.nlm.nih.gov/pmc/articles/PMC4381529/bin/supp_gr.185272.114_SuppTable1.xlsx\n",
      "Resolving proxy.charite.de (proxy.charite.de)... 141.42.5.215\n",
      "Connecting to proxy.charite.de (proxy.charite.de)|141.42.5.215|:8080... connected.\n",
      "Proxy request sent, awaiting response... 200 OK\n",
      "Length: 3679986 (3.5M) [application/vnd.openxmlformats-officedocument.spreadsheetml.sheet]\n",
      "Saving to: ‘results/original_bait_analysis/SCHOEN_baits.xlsx’\n",
      "\n",
      "results/original_ba 100%[===================>]   3.51M  4.13MB/s    in 0.8s    \n",
      "\n",
      "2024-07-17 14:40:50 (4.13 MB/s) - ‘results/original_bait_analysis/SCHOEN_baits.xlsx’ saved [3679986/3679986]\n",
      "\n"
     ]
    }
   ],
   "source": [
    "!wget -O $NOTEBOOK_RESULTS_DIR/SCHOEN_baits.xlsx https://www.ncbi.nlm.nih.gov/pmc/articles/PMC4381529/bin/supp_gr.185272.114_SuppTable1.xlsx"
   ]
  },
  {
   "cell_type": "code",
   "execution_count": 11,
   "metadata": {},
   "outputs": [
    {
     "data": {
      "text/html": [
       "<div>\n",
       "<style scoped>\n",
       "    .dataframe tbody tr th:only-of-type {\n",
       "        vertical-align: middle;\n",
       "    }\n",
       "\n",
       "    .dataframe tbody tr th {\n",
       "        vertical-align: top;\n",
       "    }\n",
       "\n",
       "    .dataframe thead th {\n",
       "        text-align: right;\n",
       "    }\n",
       "</style>\n",
       "<table border=\"1\" class=\"dataframe\">\n",
       "  <thead>\n",
       "    <tr style=\"text-align: right;\">\n",
       "      <th></th>\n",
       "      <th>Chr</th>\n",
       "      <th>Start</th>\n",
       "      <th>End</th>\n",
       "      <th>Strand</th>\n",
       "      <th>Name</th>\n",
       "      <th>Sequence</th>\n",
       "    </tr>\n",
       "  </thead>\n",
       "  <tbody>\n",
       "    <tr>\n",
       "      <th>0</th>\n",
       "      <td>chr1</td>\n",
       "      <td>3090914</td>\n",
       "      <td>3091033</td>\n",
       "      <td>+</td>\n",
       "      <td>U6.149-201</td>\n",
       "      <td>GCTTTCTCTTCCAAAGTAATAAGCCATAAAAAAATCAGAGCACTTT...</td>\n",
       "    </tr>\n",
       "    <tr>\n",
       "      <th>1</th>\n",
       "      <td>chr1</td>\n",
       "      <td>3092437</td>\n",
       "      <td>3092556</td>\n",
       "      <td>-</td>\n",
       "      <td>U6.149-201</td>\n",
       "      <td>TTTGGTGAATTAAAAGTGGACTAAATAAGCAATACCAATAACAATA...</td>\n",
       "    </tr>\n",
       "    <tr>\n",
       "      <th>2</th>\n",
       "      <td>chr1</td>\n",
       "      <td>3455978</td>\n",
       "      <td>3456097</td>\n",
       "      <td>+</td>\n",
       "      <td>Gm1992-001</td>\n",
       "      <td>TAAACTATCTCTCCAGCCCTTTCATGGAGAGCAGATTCATTGTTGC...</td>\n",
       "    </tr>\n",
       "    <tr>\n",
       "      <th>3</th>\n",
       "      <td>chr1</td>\n",
       "      <td>3457630</td>\n",
       "      <td>3457749</td>\n",
       "      <td>-</td>\n",
       "      <td>Gm1992-001</td>\n",
       "      <td>TCTTCCTGGGATTGTTCCCTAGGCAGGAGCCCTTAGACTATATAAA...</td>\n",
       "    </tr>\n",
       "    <tr>\n",
       "      <th>4</th>\n",
       "      <td>chr1</td>\n",
       "      <td>3659723</td>\n",
       "      <td>3659842</td>\n",
       "      <td>+</td>\n",
       "      <td>Xkr4-001</td>\n",
       "      <td>AAGTCAAAAGAACAGATTTCTGAGCATATTGTCCCACCACATTCCT...</td>\n",
       "    </tr>\n",
       "    <tr>\n",
       "      <th>...</th>\n",
       "      <td>...</td>\n",
       "      <td>...</td>\n",
       "      <td>...</td>\n",
       "      <td>...</td>\n",
       "      <td>...</td>\n",
       "      <td>...</td>\n",
       "    </tr>\n",
       "    <tr>\n",
       "      <th>39016</th>\n",
       "      <td>chrY</td>\n",
       "      <td>623230</td>\n",
       "      <td>623349</td>\n",
       "      <td>-</td>\n",
       "      <td>Ddx3y-201</td>\n",
       "      <td>ACTTGGAACTTTCTTCAGTTGAAGGATCTTAAGCATACCAGTCAGT...</td>\n",
       "    </tr>\n",
       "    <tr>\n",
       "      <th>39017</th>\n",
       "      <td>chrY</td>\n",
       "      <td>640751</td>\n",
       "      <td>640870</td>\n",
       "      <td>+</td>\n",
       "      <td>U6.528-201</td>\n",
       "      <td>GCTTTTGTAAGTTTCATTTTTGCACTATGAGATTTCTCTAAAAAAT...</td>\n",
       "    </tr>\n",
       "    <tr>\n",
       "      <th>39018</th>\n",
       "      <td>chrY</td>\n",
       "      <td>645348</td>\n",
       "      <td>645467</td>\n",
       "      <td>-</td>\n",
       "      <td>U6.528-201</td>\n",
       "      <td>GATTATAAGAGATCACTTTGAATTATAAATAAGCTAACAGTTTATG...</td>\n",
       "    </tr>\n",
       "    <tr>\n",
       "      <th>39019</th>\n",
       "      <td>chrY</td>\n",
       "      <td>796968</td>\n",
       "      <td>797087</td>\n",
       "      <td>-</td>\n",
       "      <td>Usp9y-001</td>\n",
       "      <td>CTTCAAGCTGGTGAGGGAATGATGGTTTTGTCTAAGTGATCAACTT...</td>\n",
       "    </tr>\n",
       "    <tr>\n",
       "      <th>39020</th>\n",
       "      <td>chrY</td>\n",
       "      <td>1919179</td>\n",
       "      <td>1919298</td>\n",
       "      <td>+</td>\n",
       "      <td>Sry-201,Sry-202</td>\n",
       "      <td>GCTTTGCTGGTTTTTGGAGTACAGGTGTGCAGCTCTACTCCAGTCT...</td>\n",
       "    </tr>\n",
       "  </tbody>\n",
       "</table>\n",
       "<p>39021 rows × 6 columns</p>\n",
       "</div>"
      ],
      "text/plain": [
       "        Chr    Start      End Strand             Name  \\\n",
       "0      chr1  3090914  3091033      +       U6.149-201   \n",
       "1      chr1  3092437  3092556      -       U6.149-201   \n",
       "2      chr1  3455978  3456097      +       Gm1992-001   \n",
       "3      chr1  3457630  3457749      -       Gm1992-001   \n",
       "4      chr1  3659723  3659842      +         Xkr4-001   \n",
       "...     ...      ...      ...    ...              ...   \n",
       "39016  chrY   623230   623349      -        Ddx3y-201   \n",
       "39017  chrY   640751   640870      +       U6.528-201   \n",
       "39018  chrY   645348   645467      -       U6.528-201   \n",
       "39019  chrY   796968   797087      -        Usp9y-001   \n",
       "39020  chrY  1919179  1919298      +  Sry-201,Sry-202   \n",
       "\n",
       "                                                Sequence  \n",
       "0      GCTTTCTCTTCCAAAGTAATAAGCCATAAAAAAATCAGAGCACTTT...  \n",
       "1      TTTGGTGAATTAAAAGTGGACTAAATAAGCAATACCAATAACAATA...  \n",
       "2      TAAACTATCTCTCCAGCCCTTTCATGGAGAGCAGATTCATTGTTGC...  \n",
       "3      TCTTCCTGGGATTGTTCCCTAGGCAGGAGCCCTTAGACTATATAAA...  \n",
       "4      AAGTCAAAAGAACAGATTTCTGAGCATATTGTCCCACCACATTCCT...  \n",
       "...                                                  ...  \n",
       "39016  ACTTGGAACTTTCTTCAGTTGAAGGATCTTAAGCATACCAGTCAGT...  \n",
       "39017  GCTTTTGTAAGTTTCATTTTTGCACTATGAGATTTCTCTAAAAAAT...  \n",
       "39018  GATTATAAGAGATCACTTTGAATTATAAATAAGCTAACAGTTTATG...  \n",
       "39019  CTTCAAGCTGGTGAGGGAATGATGGTTTTGTCTAAGTGATCAACTT...  \n",
       "39020  GCTTTGCTGGTTTTTGGAGTACAGGTGTGCAGCTCTACTCCAGTCT...  \n",
       "\n",
       "[39021 rows x 6 columns]"
      ]
     },
     "execution_count": 11,
     "metadata": {},
     "output_type": "execute_result"
    }
   ],
   "source": [
    "df = pd.read_excel(NOTEBOOK_RESULTS_DIR + \"/SCHOEN_baits.xlsx\", sheet_name=0)\n",
    "df"
   ]
  },
  {
   "cell_type": "code",
   "execution_count": 12,
   "metadata": {},
   "outputs": [
    {
     "name": "stdout",
     "output_type": "stream",
     "text": [
      "Created: results/original_bait_analysis/SCHOEN_baits.bed\n"
     ]
    }
   ],
   "source": [
    "# Create BED file with baits that can be loaded into the UCSC Genome Browser\n",
    "author = \"SCHOEN\"\n",
    "ucsc_bed_file = NOTEBOOK_RESULTS_DIR + '/' + author + '_baits.bed'\n",
    "fh = open(ucsc_bed_file, 'w')\n",
    "fh.write(\"track name=\\\"\" + author + \"_baits\" + \"\\\" description=\\\"\" + author + \"_baits\" + \"\\\" itemRgb=\\\"On\\\"\" + '\\n')\n",
    "for i in df.index:\n",
    "    chrom = df.iloc[i]['Chr']\n",
    "    sta = str(df.iloc[i]['Start'] - 1)\n",
    "    end = str(df.iloc[i]['End'])\n",
    "    if chrom == \"chrMT\":\n",
    "        chrom = \"chrM\"\n",
    "    fh.write(chrom + '\\t' + sta + '\\t' + end + '\\n')\n",
    "fh.close()\n",
    "print('Created: ' + ucsc_bed_file)"
   ]
  },
  {
   "cell_type": "markdown",
   "metadata": {},
   "source": [
    "The baits can be loaded as a custom track in the UCSC genome browser:\n",
    "\n",
    "1. Go to the [UCSC genome browser](https://genome.ucsc.edu)\n",
    "2. For the Mifsud baits, select the [genome build hg19](https://genome-euro.ucsc.edu/cgi-bin/hgTracks?db=hg19) (and the [genome build mm9](https://genome-euro.ucsc.edu/cgi-bin/hgTracks?db=mm9) for the Schoenfelder baits)\n",
    "3. Find the RepeatMasker track and move it to the top\n",
    "4. Click the **Add custom track** button below the track window\n",
    "5. Click the **Choose File** button\n",
    "6. Select the file `results/original_bait_analysis/MIFSUD_baits.bed` (the other BED file for the Schoenfelder baits)\n",
    "7. Confirm by clicking the **Submit** button\n",
    "8. Click the **Go to first annotation** button"
   ]
  },
  {
   "cell_type": "markdown",
   "metadata": {},
   "source": [
    "## Analyze baits with respect to GC, repeat and N content"
   ]
  },
  {
   "cell_type": "markdown",
   "metadata": {},
   "source": [
    "In order to keep the layout of the notebook clear, we outsourced some parts of the analysis to a separate Python class."
   ]
  },
  {
   "cell_type": "code",
   "execution_count": 13,
   "metadata": {},
   "outputs": [],
   "source": [
    "oba = OriginalBaitAnalysis()"
   ]
  },
  {
   "cell_type": "markdown",
   "metadata": {},
   "source": [
    "We perform the analysis for the baits of Mifsud and Schoenfelder in parallel and compare the results at the end."
   ]
  },
  {
   "cell_type": "code",
   "execution_count": 14,
   "metadata": {},
   "outputs": [],
   "source": [
    "DATA_DICT = {\n",
    "    'MIFSUD':\n",
    "    {\n",
    "        'GENOME_FILE': '../../additional_files/reference_sequence/hg19_genome.fa',\n",
    "        'BAIT_BED_FILE': NOTEBOOK_RESULTS_DIR + '/' + 'MIFSUD' + '_baits.bed',\n",
    "        'CONTENTS': {'GC': [], 'REP': [], 'N': []}\n",
    "    },\n",
    "    'SCHOEN':\n",
    "    {\n",
    "        'GENOME_FILE': '../../additional_files/reference_sequence/mm9_genome.fa',\n",
    "        'BAIT_BED_FILE': NOTEBOOK_RESULTS_DIR + '/' + 'SCHOEN' + '_baits.bed',\n",
    "        'CONTENTS': {'GC': [], 'REP': [], 'N': []}\n",
    "    }\n",
    "}"
   ]
  },
  {
   "cell_type": "markdown",
   "metadata": {},
   "source": [
    "We determine the GC, Repeat and N content of each bait."
   ]
  },
  {
   "cell_type": "code",
   "execution_count": 15,
   "metadata": {},
   "outputs": [
    {
     "name": "stdout",
     "output_type": "stream",
     "text": [
      "MIFSUD\n",
      "\tresults/original_bait_analysis/MIFSUD_repetitive_baits.bed\n",
      "SCHOEN\n",
      "\tresults/original_bait_analysis/SCHOEN_repetitive_baits.bed\n"
     ]
    }
   ],
   "source": [
    "for author in DATA_DICT.keys():\n",
    "    print(author)\n",
    "    GENOME_FILE = DATA_DICT[author]['GENOME_FILE']\n",
    "    BAIT_BED_FILE = DATA_DICT[author]['BAIT_BED_FILE']\n",
    "    ba = BaitAnalysis()\n",
    "    ba.init_bait_seq_dict(genome_fasta_file=GENOME_FILE,\n",
    "                                 bait_bed_file=BAIT_BED_FILE,\n",
    "                                 working_directory=NOTEBOOK_RESULTS_DIR)\n",
    "    \n",
    "    # Create BED file with repetitive baits that can be loaded into the UCSC Genome Browser\n",
    "    ucsc_bed_file = NOTEBOOK_RESULTS_DIR + '/' + author + '_repetitive_baits.bed'\n",
    "    print('\\t' + ucsc_bed_file)\n",
    "    fh = open(ucsc_bed_file, 'w')\n",
    "    fh.write(\"track name=\\\"\" + author + \"_repetitive_baits\" + \"\\\" description=\\\"\" + author + \"_repetitive_baits\" + \"\\\" itemRgb=\\\"On\\\"\" + '\\n')\n",
    "\n",
    "    # Get GC, repeat and N content for each bait\n",
    "    for coords, seq in ba.BAIT_SEQ_dict.items():\n",
    "        DATA_DICT[author]['CONTENTS']['GC'].append(ba.get_gc_content_seq(seq))\n",
    "        DATA_DICT[author]['CONTENTS']['REP'].append(ba.get_repeat_content_seq(seq))\n",
    "        DATA_DICT[author]['CONTENTS']['N'].append(oba.get_n_content_seq(seq))\n",
    "        # Write repetitive to BED file\n",
    "        if 0.5 <= ba.get_repeat_content_seq(seq):\n",
    "            fh.write(coords + '\\n')\n",
    "    fh.close()"
   ]
  },
  {
   "cell_type": "markdown",
   "metadata": {},
   "source": [
    "The generated BED files contain all baits that consist of 50% or more repetitive sequence and can be loaded into the UCSC Genome Browser as described above."
   ]
  },
  {
   "cell_type": "markdown",
   "metadata": {},
   "source": [
    "## Presentation of results\n",
    "\n",
    "Determine the number of baits that consist of more than 50% and 100% repetitive sequence."
   ]
  },
  {
   "cell_type": "code",
   "execution_count": 16,
   "metadata": {},
   "outputs": [
    {
     "name": "stdout",
     "output_type": "stream",
     "text": [
      "MIFSUD\n",
      "\tNumber of baits with repeat content equal or greater 0.5: 7796 (20.73%)\n",
      "\tNumber of baits with repeat content equal or greater 1.0: 3980 (10.58%)\n",
      "SCHOEN\n",
      "\tNumber of baits with repeat content equal or greater 0.5: 5485 (14.06%)\n",
      "\tNumber of baits with repeat content equal or greater 1.0: 2510 (6.43%)\n"
     ]
    }
   ],
   "source": [
    "for author in ['MIFSUD', 'SCHOEN']:\n",
    "    print(author)\n",
    "    for minc in [0.5, 1.0]:\n",
    "        total = len(DATA_DICT[author]['CONTENTS']['REP'])\n",
    "        n = len([rep for rep in DATA_DICT[author]['CONTENTS']['REP'] if minc <= rep])\n",
    "        f = \"{:.2f}\".format(n/total * 100)\n",
    "        print('\\t' + \"Number of baits with repeat content equal or greater \" + str(minc) + \": \" + str(n) + ' (' + f + '%)')"
   ]
  },
  {
   "cell_type": "markdown",
   "metadata": {},
   "source": [
    "For comparison, plot all results for the baits of Mifsud and Schoenfelder in two boxplots."
   ]
  },
  {
   "cell_type": "code",
   "execution_count": 17,
   "metadata": {},
   "outputs": [
    {
     "data": {
      "image/png": "[encoded data removed]",
      "text/plain": [
       "<Figure size 850x300 with 2 Axes>"
      ]
     },
     "metadata": {},
     "output_type": "display_data"
    }
   ],
   "source": [
    "oba.create_contents_boxplot(\n",
    "    gc_l=DATA_DICT['MIFSUD']['CONTENTS']['GC'],\n",
    "    gc_r=DATA_DICT['SCHOEN']['CONTENTS']['GC'],\n",
    "    rep_l=DATA_DICT['MIFSUD']['CONTENTS']['REP'],\n",
    "    rep_r=DATA_DICT['SCHOEN']['CONTENTS']['REP'],\n",
    "    n_l=DATA_DICT['MIFSUD']['CONTENTS']['N'],\n",
    "    n_r=DATA_DICT['SCHOEN']['CONTENTS']['N'],\n",
    "    title='GC, repeat and N content of baits',\n",
    "    xlabel_l='Contents for Mifsud et al. 2015',\n",
    "    xlabel_r='Contents for Schoenfelder et al. 2015',\n",
    "    output_pdf=NOTEBOOK_RESULTS_DIR + '/' + OUT_PREFIX  + '_gc_repeat_n_content_of_baits.pdf')"
   ]
  },
  {
   "cell_type": "markdown",
   "metadata": {},
   "source": [
    "Calculate summary statistics and store them in pandas dataframes."
   ]
  },
  {
   "cell_type": "code",
   "execution_count": 18,
   "metadata": {},
   "outputs": [],
   "source": [
    "df_dict = {}\n",
    "for content in ['GC', 'REP', 'N']:\n",
    "    df = pd.DataFrame(index=['MIFSUD', 'SCHOEN'])\n",
    "    for author in DATA_DICT.keys():\n",
    "        df.at[author,'n'] = int(len(DATA_DICT[author]['CONTENTS'][content]))\n",
    "        df.at[author, 'min(' + content + ')'] = min(DATA_DICT[author]['CONTENTS'][content])\n",
    "        df.at[author, 'max(' + content + ')'] = max(DATA_DICT[author]['CONTENTS'][content])\n",
    "        df.at[author, 'Q1(' + content + ')'] = np.quantile(DATA_DICT[author]['CONTENTS'][content], 0.25)\n",
    "        df.at[author, 'Q2(' + content + ')'] = np.quantile(DATA_DICT[author]['CONTENTS'][content], 0.50)\n",
    "        df.at[author, 'Q3(' + content + ')'] = np.quantile(DATA_DICT[author]['CONTENTS'][content], 0.75)\n",
    "    df = df.astype({\"n\": int})\n",
    "    for col in df.columns[1:]:\n",
    "        df[col] = df[col].map('{:,.3f}'.format)\n",
    "    df_dict[content] = df"
   ]
  },
  {
   "cell_type": "markdown",
   "metadata": {},
   "source": [
    "#### GC content\n",
    "\n",
    "There are baits from both Mifsud et al. 2015 and Schoenfelder et al. 2015 that have a GC content that does not meet the selection criterion, i.e. less than 25% or more than 65% GC content."
   ]
  },
  {
   "cell_type": "code",
   "execution_count": 19,
   "metadata": {},
   "outputs": [
    {
     "data": {
      "text/html": [
       "<div>\n",
       "<style scoped>\n",
       "    .dataframe tbody tr th:only-of-type {\n",
       "        vertical-align: middle;\n",
       "    }\n",
       "\n",
       "    .dataframe tbody tr th {\n",
       "        vertical-align: top;\n",
       "    }\n",
       "\n",
       "    .dataframe thead th {\n",
       "        text-align: right;\n",
       "    }\n",
       "</style>\n",
       "<table border=\"1\" class=\"dataframe\">\n",
       "  <thead>\n",
       "    <tr style=\"text-align: right;\">\n",
       "      <th></th>\n",
       "      <th>n</th>\n",
       "      <th>min(GC)</th>\n",
       "      <th>max(GC)</th>\n",
       "      <th>Q1(GC)</th>\n",
       "      <th>Q2(GC)</th>\n",
       "      <th>Q3(GC)</th>\n",
       "    </tr>\n",
       "  </thead>\n",
       "  <tbody>\n",
       "    <tr>\n",
       "      <th>MIFSUD</th>\n",
       "      <td>37608</td>\n",
       "      <td>0.217</td>\n",
       "      <td>0.675</td>\n",
       "      <td>0.367</td>\n",
       "      <td>0.433</td>\n",
       "      <td>0.517</td>\n",
       "    </tr>\n",
       "    <tr>\n",
       "      <th>SCHOEN</th>\n",
       "      <td>39021</td>\n",
       "      <td>0.225</td>\n",
       "      <td>0.675</td>\n",
       "      <td>0.392</td>\n",
       "      <td>0.450</td>\n",
       "      <td>0.517</td>\n",
       "    </tr>\n",
       "  </tbody>\n",
       "</table>\n",
       "</div>"
      ],
      "text/plain": [
       "            n min(GC) max(GC) Q1(GC) Q2(GC) Q3(GC)\n",
       "MIFSUD  37608   0.217   0.675  0.367  0.433  0.517\n",
       "SCHOEN  39021   0.225   0.675  0.392  0.450  0.517"
      ]
     },
     "execution_count": 19,
     "metadata": {},
     "output_type": "execute_result"
    }
   ],
   "source": [
    "df_dict['GC']"
   ]
  },
  {
   "cell_type": "markdown",
   "metadata": {},
   "source": [
    "#### Repeat content\n",
    "\n",
    "25% of the baits of Mifsud et al. have a repeat content of more than 29%. 25% of the baits from Schoenfelder et al. have a repeat content of more than 9%."
   ]
  },
  {
   "cell_type": "code",
   "execution_count": 20,
   "metadata": {},
   "outputs": [
    {
     "data": {
      "text/html": [
       "<div>\n",
       "<style scoped>\n",
       "    .dataframe tbody tr th:only-of-type {\n",
       "        vertical-align: middle;\n",
       "    }\n",
       "\n",
       "    .dataframe tbody tr th {\n",
       "        vertical-align: top;\n",
       "    }\n",
       "\n",
       "    .dataframe thead th {\n",
       "        text-align: right;\n",
       "    }\n",
       "</style>\n",
       "<table border=\"1\" class=\"dataframe\">\n",
       "  <thead>\n",
       "    <tr style=\"text-align: right;\">\n",
       "      <th></th>\n",
       "      <th>n</th>\n",
       "      <th>min(REP)</th>\n",
       "      <th>max(REP)</th>\n",
       "      <th>Q1(REP)</th>\n",
       "      <th>Q2(REP)</th>\n",
       "      <th>Q3(REP)</th>\n",
       "    </tr>\n",
       "  </thead>\n",
       "  <tbody>\n",
       "    <tr>\n",
       "      <th>MIFSUD</th>\n",
       "      <td>37608</td>\n",
       "      <td>0.000</td>\n",
       "      <td>1.000</td>\n",
       "      <td>0.000</td>\n",
       "      <td>0.000</td>\n",
       "      <td>0.292</td>\n",
       "    </tr>\n",
       "    <tr>\n",
       "      <th>SCHOEN</th>\n",
       "      <td>39021</td>\n",
       "      <td>0.000</td>\n",
       "      <td>1.000</td>\n",
       "      <td>0.000</td>\n",
       "      <td>0.000</td>\n",
       "      <td>0.092</td>\n",
       "    </tr>\n",
       "  </tbody>\n",
       "</table>\n",
       "</div>"
      ],
      "text/plain": [
       "            n min(REP) max(REP) Q1(REP) Q2(REP) Q3(REP)\n",
       "MIFSUD  37608    0.000    1.000   0.000   0.000   0.292\n",
       "SCHOEN  39021    0.000    1.000   0.000   0.000   0.092"
      ]
     },
     "execution_count": 20,
     "metadata": {},
     "output_type": "execute_result"
    }
   ],
   "source": [
    "df_dict['REP']"
   ]
  },
  {
   "cell_type": "markdown",
   "metadata": {},
   "source": [
    "Neither the baits from Mifsud nor those from Schoenfelder contain Ns."
   ]
  },
  {
   "cell_type": "code",
   "execution_count": 21,
   "metadata": {},
   "outputs": [
    {
     "data": {
      "text/html": [
       "<div>\n",
       "<style scoped>\n",
       "    .dataframe tbody tr th:only-of-type {\n",
       "        vertical-align: middle;\n",
       "    }\n",
       "\n",
       "    .dataframe tbody tr th {\n",
       "        vertical-align: top;\n",
       "    }\n",
       "\n",
       "    .dataframe thead th {\n",
       "        text-align: right;\n",
       "    }\n",
       "</style>\n",
       "<table border=\"1\" class=\"dataframe\">\n",
       "  <thead>\n",
       "    <tr style=\"text-align: right;\">\n",
       "      <th></th>\n",
       "      <th>n</th>\n",
       "      <th>min(N)</th>\n",
       "      <th>max(N)</th>\n",
       "      <th>Q1(N)</th>\n",
       "      <th>Q2(N)</th>\n",
       "      <th>Q3(N)</th>\n",
       "    </tr>\n",
       "  </thead>\n",
       "  <tbody>\n",
       "    <tr>\n",
       "      <th>MIFSUD</th>\n",
       "      <td>37608</td>\n",
       "      <td>0.000</td>\n",
       "      <td>0.000</td>\n",
       "      <td>0.000</td>\n",
       "      <td>0.000</td>\n",
       "      <td>0.000</td>\n",
       "    </tr>\n",
       "    <tr>\n",
       "      <th>SCHOEN</th>\n",
       "      <td>39021</td>\n",
       "      <td>0.000</td>\n",
       "      <td>0.000</td>\n",
       "      <td>0.000</td>\n",
       "      <td>0.000</td>\n",
       "      <td>0.000</td>\n",
       "    </tr>\n",
       "  </tbody>\n",
       "</table>\n",
       "</div>"
      ],
      "text/plain": [
       "            n min(N) max(N)  Q1(N)  Q2(N)  Q3(N)\n",
       "MIFSUD  37608  0.000  0.000  0.000  0.000  0.000\n",
       "SCHOEN  39021  0.000  0.000  0.000  0.000  0.000"
      ]
     },
     "execution_count": 21,
     "metadata": {},
     "output_type": "execute_result"
    }
   ],
   "source": [
    "df_dict['N']"
   ]
  },
  {
   "cell_type": "markdown",
   "metadata": {},
   "source": [
    "Present the repeat content of baits in histograms as an alternative representation."
   ]
  },
  {
   "cell_type": "code",
   "execution_count": 22,
   "metadata": {},
   "outputs": [
    {
     "data": {
      "image/png": "[encoded data removed]",
      "text/plain": [
       "<Figure size 640x480 with 1 Axes>"
      ]
     },
     "metadata": {},
     "output_type": "display_data"
    },
    {
     "data": {
      "image/png": "[encoded data removed]",
      "text/plain": [
       "<Figure size 640x480 with 1 Axes>"
      ]
     },
     "metadata": {},
     "output_type": "display_data"
    }
   ],
   "source": [
    "for author in ['MIFSUD', 'SCHOEN']:\n",
    "    for ctype in ['REP']:\n",
    "        plt.hist(DATA_DICT[author]['CONTENTS'][ctype], 25)\n",
    "        plt.title(author + \": Repeat content distribution of baits\", loc='left')\n",
    "        plt.ylabel(\"Number of baits\")\n",
    "        plt.xlabel(\"Repeat content\")\n",
    "        plt.show()"
   ]
  },
  {
   "cell_type": "markdown",
   "metadata": {},
   "source": [
    "## Random baits"
   ]
  },
  {
   "cell_type": "code",
   "execution_count": 23,
   "metadata": {},
   "outputs": [
    {
     "name": "stdout",
     "output_type": "stream",
     "text": [
      "chr1\t0\t197195432\n",
      "chr2\t0\t181748087\n",
      "chr3\t0\t159599783\n",
      "chr4\t0\t155630120\n",
      "chr5\t0\t152537259\n",
      "chr6\t0\t149517037\n",
      "chr7\t0\t152524553\n",
      "chr8\t0\t131738871\n",
      "chr9\t0\t124076172\n",
      "chr10\t0\t129993255\n"
     ]
    }
   ],
   "source": [
    "# Create BED file with chromosome sizes from FASTA file\n",
    "import pyfaidx\n",
    "author = 'SCHOEN'\n",
    "GENOME = \"mm9\" # \"mm9\"\n",
    "REF_DIR = '../../additional_files/reference_sequence/'\n",
    "GENOME_FASTA = REF_DIR + GENOME + \"_genome.fa\"\n",
    "GENOME_CHR_SIZES = REF_DIR + GENOME + '_genome_chr_sizes.bed'\n",
    "fh = open(GENOME_CHR_SIZES, \"w\")\n",
    "p = pyfaidx.Fasta(GENOME_FASTA)\n",
    "for chrom, f in p.items():\n",
    "    length = len(f)\n",
    "    fh.write(chrom + '\\t0\\t' + str(length) + '\\n')\n",
    "fh.close()\n",
    "!head $GENOME_CHR_SIZES"
   ]
  },
  {
   "cell_type": "code",
   "execution_count": 24,
   "metadata": {},
   "outputs": [
    {
     "data": {
      "text/plain": [
       "<BedTool(../../additional_files/reference_sequence/mm9_genome_chr_sizes.bed)>"
      ]
     },
     "execution_count": 24,
     "metadata": {},
     "output_type": "execute_result"
    }
   ],
   "source": [
    "# Create file with <chr_name>\\t<seq> lines\n",
    "import pybedtools\n",
    "chrom_seqs = pybedtools.BedTool(GENOME_CHR_SIZES)\n",
    "chrom_seqs.sequence(fi=GENOME_FASTA, fo=NOTEBOOK_RESULTS_DIR + \"tmp.txt\", tab=True)"
   ]
  },
  {
   "cell_type": "code",
   "execution_count": 25,
   "metadata": {},
   "outputs": [
    {
     "name": "stdout",
     "output_type": "stream",
     "text": [
      "chr1\t197195432\n",
      "chr2\t181748087\n",
      "chr3\t159599783\n",
      "chr4\t155630120\n",
      "chr5\t152537259\n",
      "chr6\t149517037\n",
      "chr7\t152524553\n",
      "chr8\t131738871\n",
      "chr9\t124076172\n",
      "chr10\t129993255\n",
      "chr11\t121843856\n",
      "chr12\t121257530\n",
      "chr13\t120284312\n",
      "chr14\t125194864\n",
      "chr15\t103494974\n",
      "chr16\t98319150\n",
      "chr17\t95272651\n",
      "chr18\t90772031\n",
      "chr19\t61342430\n",
      "chrX\t166650296\n",
      "chrY\t15902555\n",
      "chrM\t16299\n",
      "chr13_random\t400311\n",
      "chr16_random\t3994\n",
      "chr17_random\t628739\n",
      "chr1_random\t1231697\n",
      "chr3_random\t41899\n",
      "chr4_random\t160594\n",
      "chr5_random\t357350\n",
      "chr7_random\t362490\n",
      "chr8_random\t849593\n",
      "chr9_random\t449403\n",
      "chrUn_random\t5900358\n",
      "chrX_random\t1785075\n",
      "chrY_random\t58682461\n"
     ]
    }
   ],
   "source": [
    "# Create dictionary with chromosome sequences using chromosome names as keys\n",
    "CHROM_SEQ_dict = {}\n",
    "with open(NOTEBOOK_RESULTS_DIR + \"tmp.txt\", 'rt') as fp:\n",
    "    for line in fp:\n",
    "        coords, seq = line.rstrip().split('\\t')\n",
    "        chrom = coords.split(':')[0]\n",
    "        CHROM_SEQ_dict[chrom] = seq\n",
    "os.remove(NOTEBOOK_RESULTS_DIR + \"tmp.txt\")\n",
    "CHR_SIZES = {}\n",
    "for chrom, seq in CHROM_SEQ_dict.items():\n",
    "    CHR_SIZES[chrom] = len(seq)\n",
    "    print(chrom + '\\t' + str(len(seq)))"
   ]
  },
  {
   "cell_type": "code",
   "execution_count": 26,
   "metadata": {},
   "outputs": [],
   "source": [
    "def is_valid_bait(seq, min_gc = 0.25, max_gc = 0.65, max_np = 120, max_rp = 120):\n",
    "    gc = ba.get_gc_content_seq(seq)\n",
    "    nps = oba.get_period_lengths(seq, ptype='N')\n",
    "    np_max = 0\n",
    "    if 0 < len(nps):\n",
    "        np_max = max(nps)\n",
    "    rps = oba.get_period_lengths(seq, ptype='repeat')\n",
    "    rp_max = 0\n",
    "    if 0 < len(rps):\n",
    "        rp_max = max(rps)\n",
    "    if min_gc <= gc and gc <= max_gc and np_max <= max_np and rp_max <= max_rp:\n",
    "        return True\n",
    "    return False"
   ]
  },
  {
   "cell_type": "code",
   "execution_count": 27,
   "metadata": {},
   "outputs": [],
   "source": [
    "import random \n",
    "random_radius = 500\n",
    "gc_min = 0.25\n",
    "gc_max = 0.65\n",
    "repeats = []\n",
    "author = 'SCHOEN'\n",
    "RANDOM_BAIT_BED_FILE = NOTEBOOK_RESULTS_DIR + '/' + 'RANDOM' + '_baits.bed'\n",
    "fh_r = open(RANDOM_BAIT_BED_FILE, \"w\")\n",
    "with open(NOTEBOOK_RESULTS_DIR + '/' + author + '_baits.bed', \"r\") as fh:\n",
    "    for line in fh:\n",
    "        # Skip header line\n",
    "        if line.startswith(\"track\"):\n",
    "            continue\n",
    "        # Extract coordinates\n",
    "        line = line.rstrip('\\n')\n",
    "        chrom = line.split('\\t')[0]\n",
    "        sta = int(line.split('\\t')[1])\n",
    "        end = int(line.split('\\t')[2])\n",
    "        #print(\"----\")\n",
    "        cnt = 0\n",
    "        ok = False\n",
    "        while not ok:\n",
    "            # Draw random start position\n",
    "            r_sta = random.randint(sta - random_radius, sta + random_radius)\n",
    "            r_end = r_sta + 120\n",
    "            if 0 <= r_sta and r_end < CHR_SIZES[chrom]:\n",
    "                # Get sequence\n",
    "                seq = CHROM_SEQ_dict[chrom][r_sta:r_end]\n",
    "                if is_valid_bait(seq, max_rp=3):\n",
    "                    fh_r.write(chrom + '\\t' + str(r_sta) + '\\t' + str(r_end) + '\\n')\n",
    "                    ok = True\n",
    "            cnt += 1\n",
    "            #print(cnt)\n",
    "            if 100 < cnt:\n",
    "                ok = True\n",
    "fh_r.close()"
   ]
  },
  {
   "cell_type": "code",
   "execution_count": 28,
   "metadata": {},
   "outputs": [],
   "source": [
    "ba = BaitAnalysis()\n",
    "ba.init_bait_seq_dict(\n",
    "    genome_fasta_file=GENOME_FASTA,\n",
    "    bait_bed_file=RANDOM_BAIT_BED_FILE,\n",
    "    working_directory=NOTEBOOK_RESULTS_DIR)"
   ]
  },
  {
   "cell_type": "code",
   "execution_count": 29,
   "metadata": {},
   "outputs": [],
   "source": [
    "author = \"RANDOM\"\n",
    "DATA_DICT[author] = {'CONTENTS': {'GC': [], 'REP': [], 'N': []}}\n",
    "# Get GC, repeat and N content for each bait\n",
    "for coords, seq in ba.BAIT_SEQ_dict.items():\n",
    "    DATA_DICT[author]['CONTENTS']['GC'].append(ba.get_gc_content_seq(seq))\n",
    "    DATA_DICT[author]['CONTENTS']['REP'].append(ba.get_repeat_content_seq(seq))\n",
    "    DATA_DICT[author]['CONTENTS']['N'].append(oba.get_n_content_seq(seq))"
   ]
  },
  {
   "cell_type": "code",
   "execution_count": 30,
   "metadata": {},
   "outputs": [
    {
     "name": "stdout",
     "output_type": "stream",
     "text": [
      "RANDOM\n",
      "\tNumber of baits with repeat content equal or greater 0.5: 0 (0.00%)\n",
      "\tNumber of baits with repeat content equal or greater 1.0: 0 (0.00%)\n"
     ]
    }
   ],
   "source": [
    "print(author)\n",
    "for minc in [0.5, 1.0]:\n",
    "    total = len(DATA_DICT[author]['CONTENTS']['REP'])\n",
    "    n = len([rep for rep in DATA_DICT[author]['CONTENTS']['REP'] if minc <= rep])\n",
    "    f = \"{:.2f}\".format(n/total * 100)\n",
    "    print('\\t' + \"Number of baits with repeat content equal or greater \" + str(minc) + \": \" + str(n) + ' (' + f + '%)')"
   ]
  },
  {
   "cell_type": "code",
   "execution_count": 31,
   "metadata": {},
   "outputs": [
    {
     "data": {
      "image/png": "[encoded data removed]",
      "text/plain": [
       "<Figure size 850x300 with 2 Axes>"
      ]
     },
     "metadata": {},
     "output_type": "display_data"
    }
   ],
   "source": [
    "oba.create_contents_boxplot(\n",
    "    gc_l=DATA_DICT['SCHOEN']['CONTENTS']['GC'],\n",
    "    gc_r=DATA_DICT['RANDOM']['CONTENTS']['GC'],\n",
    "    rep_l=DATA_DICT['SCHOEN']['CONTENTS']['REP'],\n",
    "    rep_r=DATA_DICT['RANDOM']['CONTENTS']['REP'],\n",
    "    n_l=DATA_DICT['MIFSUD']['CONTENTS']['N'],\n",
    "    n_r=DATA_DICT['SCHOEN']['CONTENTS']['N'],\n",
    "    title='GC, repeat and N content of baits',\n",
    "    xlabel_l='Contents for Mifsud et al. 2015',\n",
    "    xlabel_r='Random baits',\n",
    "    output_pdf=NOTEBOOK_RESULTS_DIR + '/' + OUT_PREFIX  + '_gc_repeat_n_content_of_random_baits.pdf')"
   ]
  },
  {
   "cell_type": "code",
   "execution_count": 32,
   "metadata": {},
   "outputs": [
    {
     "data": {
      "image/png": "[encoded data removed]",
      "text/plain": [
       "<Figure size 640x480 with 1 Axes>"
      ]
     },
     "metadata": {},
     "output_type": "display_data"
    }
   ],
   "source": [
    "plt.hist(DATA_DICT['RANDOM']['CONTENTS']['REP'], 25)\n",
    "plt.title(author + \": Repeat content distribution of random baits\", loc='left')\n",
    "plt.ylabel(\"Number of baits\")\n",
    "plt.xlabel(\"Repeat content\")\n",
    "plt.show()"
   ]
  }
 ],
 "metadata": {
  "kernelspec": {
   "display_name": "dscripts",
   "language": "python",
   "name": "python3"
  },
  "language_info": {
   "codemirror_mode": {
    "name": "ipython",
    "version": 3
   },
   "file_extension": ".py",
   "mimetype": "text/x-python",
   "name": "python",
   "nbconvert_exporter": "python",
   "pygments_lexer": "ipython3",
   "version": "3.10.14"
  }
 },
 "nbformat": 4,
 "nbformat_minor": 2
}
